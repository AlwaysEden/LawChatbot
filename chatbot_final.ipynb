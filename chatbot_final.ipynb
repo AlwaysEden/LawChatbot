{
 "cells": [
  {
   "cell_type": "code",
   "execution_count": null,
   "metadata": {},
   "outputs": [
    {
     "name": "stderr",
     "output_type": "stream",
     "text": [
      "/Users/jeongwon/Desktop/Chatbot/Law/lawchat/lib/python3.12/site-packages/tqdm/auto.py:21: TqdmWarning: IProgress not found. Please update jupyter and ipywidgets. See https://ipywidgets.readthedocs.io/en/stable/user_install.html\n",
      "  from .autonotebook import tqdm as notebook_tqdm\n"
     ]
    }
   ],
   "source": [
    "from llama_index.embeddings.huggingface import HuggingFaceEmbedding\n",
    "import psycopg2\n",
    "import requests\n",
    "from openai import OpenAI\n",
    "import numpy as np"
   ]
  },
  {
   "cell_type": "code",
   "execution_count": 5,
   "metadata": {},
   "outputs": [],
   "source": [
    "#Sentence similarity모델을 API로 하기 위한 함수.\n",
    "def query(src, other_sentence, headers, Embedding_URL):\n",
    "    payload = { \n",
    "        \"inputs\": {\n",
    "        \"source_sentence\": src,\n",
    "\t    \"sentences\": other_sentence\n",
    "        },\n",
    "    }\n",
    "    response = requests.post(Embedding_URL, headers=headers, json=payload)\n",
    "    return response.json()\n",
    "\t\n",
    "def find_similar_sentence(req, top_k):    \n",
    "    # PostgreSQL 연결\n",
    "    query_embeddings = embed_model.get_text_embedding(req)\n",
    "\n",
    "    # SQL 실행\n",
    "    sql_query = \"\"\"\n",
    "    WITH user_query AS (\n",
    "        SELECT ARRAY {query_embeddings}::VECTOR(768) AS query_embedding\n",
    "    )\n",
    "    SELECT \n",
    "        name, part_num, part_name, chap_num, char_name, sec_num, sec_name, para_num, para_name, art_num, art_name, content,\n",
    "        embedding <=> user_query.query_embedding AS distance\n",
    "    FROM \n",
    "        each_paragraph, user_query\n",
    "    ORDER BY \n",
    "        distance ASC\n",
    "    LIMIT {top_k};\n",
    "    \"\"\".format(query_embeddings=query_embeddings, top_k = top_k)\n",
    "    cursor.execute(sql_query, query_embeddings)\n",
    "    rows = cursor.fetchall()\n",
    "\n",
    "    candidate = []\n",
    "    for row in rows:\n",
    "        row = row[:12]\n",
    "        filtered_tuple = tuple(element for element in row if element is not None) #None값을 필터링하는 코드\n",
    "        filtered_text = ' '.join(filtered_tuple)\n",
    "        candidate.append(filtered_text)\n",
    "    return candidate\n",
    "\n",
    "#유사한 문장들끼리 유사성 검증, 유사한 문장들끼리의 평균 값 이상만 사용하도록\n",
    "def extract_goodContext(candidate, top_k, headers, Embedding_URL):\n",
    "    embed = []\n",
    "    for one in candidate:\n",
    "        while(1): #아주 가끔 API가 오작동할 때가 있기에 이를 보장해주기 위한 반복문\n",
    "            try:\n",
    "                strings = query(one, candidate, headers, Embedding_URL)\n",
    "                embed.append(list(map(float, strings)))\n",
    "                break\n",
    "            except:\n",
    "                print(f\"String: {strings}\")\n",
    "                continue\n",
    "    ave = 0\n",
    "    for i in range(len(embed)):\n",
    "        embed[i] = np.mean(embed[i])\n",
    "        ave += embed[i]\n",
    "    avg_embed = ave/len(embed)\n",
    "    index_candidate = [i for i in range(len(embed)) if embed[i] > avg_embed]\n",
    "\n",
    "    elected_candidate = [candidate[i] for i in index_candidate]\n",
    "    context = \"\\n\".join(elected_candidate)\n",
    "    return context\n"
   ]
  },
  {
   "cell_type": "code",
   "execution_count": null,
   "metadata": {},
   "outputs": [],
   "source": [
    "embed_model = HuggingFaceEmbedding(model_name=\"jhgan/ko-sroberta-multitask\")\n",
    "conn = psycopg2.connect(host='host', dbname='dbname', user='user', password='password', port=5432)#you need to add your information\n",
    "cursor = conn.cursor()\n",
    "\n",
    "OpenAI_key = 'OpenAI_key'\n",
    "Embedding_URL = \"https://api-inference.huggingface.co/models/jhgan/ko-sroberta-multitask\"\n",
    "headers = {\"Authorization\": \"HuggingFace API Key\"}"
   ]
  },
  {
   "cell_type": "code",
   "execution_count": null,
   "metadata": {},
   "outputs": [],
   "source": [
    "template = \"\"\"\n",
    "아래의 템플릿에 맞춰서 답변해줘.\n",
    "\n",
    "질문:{request}\n",
    "\n",
    "관련 법령 정리: 여기에 제공한 맥락에 나와있는 법률들을 번호를 매겨 자세히 정리해줘.\n",
    "\n",
    "답변: 여기에 질문에 관한 자세한 답변을 해줘.\n",
    "\"\"\"\n",
    "top_k = 10\n",
    "client = OpenAI(api_key=OpenAI_key)"
   ]
  },
  {
   "cell_type": "code",
   "execution_count": null,
   "metadata": {},
   "outputs": [
    {
     "name": "stdout",
     "output_type": "stream",
     "text": [
      "질문: 중대재해처벌법에서 말하는 사고의 범위는 어떻게 되나요?\n",
      "\n",
      "관련 법령 정리: \n",
      "\n",
      "1. 중대재해처벌법 제1장 총칙 제2조 (정의)\n",
      "2. 산업안전보건법 제1장 총칙 제2조 (정의)\n",
      "3. 산업안전보건법시행령 제10장 보칙 제110조 (제재 요청 대상 등)\n",
      "4. 산업안전보건법시행규칙 제1장 총칙 제3조 (중대재해의 범위)\n",
      "\n",
      "답변: 중대재해처벌법에서 정의하는 \"중대재해\"는 크게 \"중대산업재해\"와 \"중대시민재해\"로 구분됩니다.\n",
      "\n",
      "1. **중대산업재해**: 이는 산업안전보건법에 따른 산업재해 중 특정 결과를 초래한 경우로 정의됩니다. 여기에는 다음과 같은 사고가 포함됩니다:\n",
      "   - 사망자가 1명 이상 발생한 경우.\n",
      "   - 동일한 사고로 인해 6개월 이상의 치료가 필요한 부상자가 2명 이상 발생한 경우.\n",
      "   - 동일한 유해 요인으로 인해 급성중독 등 특정 직업성 질병자가 1년 이내에 3명 이상 발생한 경우.\n",
      "\n",
      "2. **중대시민재해**: 이는 특정 원료, 제조물이나 공중이용시설, 공중교통수단의 결함으로 인한 재해를 말하며, 결과적으로 다음 조건 중 하나를 충족합니다. 단, 중대산업재해로 분류되는 경우는 제외됩니다: \n",
      "   - 사망자가 1명 이상 발생한 경우.\n",
      "   - 동일한 사고로 2개월 이상의 치료가 필요한 부상자가 10명 이상 발생한 경우.\n",
      "   - 동일한 원인으로 인해 3개월 이상 치료가 필요한 질병자가 10명 이상 발생한 경우.\n",
      "\n",
      "요약하자면, 중대재해처벌법은 특정 위험 상황으로 인한 중대한 결과를 초래한 재해를 \"중대재해\"로 정의하고 있으며, 이는 발생한 사고의 심각도와 피해자 수를 기준으로 측정됩니다. 이 법은 사업주 및 경영책임자가 책임을 지고 재해 예방에 필요한 조치를 취하도록 규정하고 있으며, 산업현장과 공공시설 등 다양한 영역에 걸쳐 적용됩니다.\n",
      "\n",
      "질문: 산업안전보건 시행규칙의 정의는 무엇인가요?\n",
      "\n",
      "관련 법령 정리: \n",
      "1. 산업안전보건법시행규칙 제4장 유해ㆍ위험 방지 조치 제63조 (기계ㆍ설비 등에 대한 안전 및 보건조치)\n",
      "2. 산업안전보건법시행규칙 제2장 안전보건관리체제 등 제1절 안전보건관리체제 제9조 (안전보건관리책임자의 업무)\n",
      "3. 산업안전보건법시행규칙 제5장 도급 시 산업재해 예방 제2절 도급인의 안전조치 및 보건조치 제84조 (화학물질)\n",
      "4. 산업안전보건법시행규칙 제7장 유해ㆍ위험물질에 대한 조치 제1절 유해ㆍ위험물질의 분류 및 관리 제145조 (유해인자 허용기준)\n",
      "5. 산업안전보건법 제5장 도급 시 산업재해 예방 제4절 그 밖의 고용형태에서의 산업재해 예방 제79조 (가맹본부의 산업재해 예방 조치)\n",
      "6. 산업안전보건법시행규칙 제6장 유해ㆍ위험 기계 등에 대한 조치 제1절 유해하거나 위험한 기계 등에 대한 방호조치 등 제98조 (방호조치)\n",
      "7. 산업안전보건법시행규칙 제7장 유해ㆍ위험물질에 대한 조치 제1절 유해ㆍ위험물질의 분류 및 관리 제168조 (물질안전보건자료(MSDS)대상물질의 관리 요령 게시)\n",
      "\n",
      "답변: 산업안전보건 시행규칙은 산업 현장에서의 안전 및 보건에 관련된 구체적인 조치를 규정한 법규입니다. 즉, 사업장 내에서 사고나 재해를 예방하고 근로자의 건강을 보호하기 위해 필요한 세부 사항을 법령으로 정하는 것입니다. 이 규칙은 산업안전보건법에 근거하여 고용노동부 장관이 정한 것으로, 다양한 안전 및 보건 조치 사항이 포함됩니다. 이를 통해 작업자가 안전하게 업무를 수행할 수 있도록 하며, 사업주가 법에 명시된 의무를 준수하도록 지침을 제공합니다. 산업안전보건 시행규칙은 이러한 법령의 세부 지침을 통해 다양한 산업 현장에서 유연하고 효과적인 안전 및 보건 관리를 가능하게 합니다.즉, 이 규칙은 사업주가 법적 의무를 다할 수 있도록 구체적인 안전 및 보건 조치 사항을 제공합니다.\n",
      "\n",
      "String: [1.0, 0.7394418716430664, 0.5442802309989929, 0.7339223623275757, 0.7770940661430359, 0.7404689788818359, 0.8044974207878113, 0.6539322733879089, 0.6234471797943115, 0.7016275525093079]\n"
     ]
    }
   ],
   "source": [
    "while(1):\n",
    "    #fp = open('result.txt','a')\n",
    "    request = input(\"Question: \")\n",
    "    candidate = find_similar_sentence(request, top_k)\n",
    "\n",
    "    #유사한 문장들끼리 유사성 검증, 유사한 문장들끼리의 평균 값 이상만 사용하도록\n",
    "    context = extract_goodContext(candidate, top_k, headers, Embedding_URL)\n",
    "\n",
    "    #LLM에게 질문하는 파트\n",
    "    completion = client.chat.completions.create(\n",
    "    model=\"gpt-4o\",\n",
    "    messages=[\n",
    "        {\"role\": \"system\", \"content\": f\"당신은 법의 세부적인 내용을 모르는 일반인들에게 질문을 받고 답을 제공하는 전문가입니다. 이어지는 맥락을 참고하여 자세하게 답변 해주세요. 그리고 반드시 법의 출처를 밝혀주세요. \\n 맥락:{context}\" },\n",
    "        {\"role\": \"user\", \"content\": template.format(request=request)}\n",
    "    ],\n",
    "    )\n",
    "    \n",
    "    response = completion.choices[0].message.content\n",
    "    print(response)\n",
    "    print()\n",
    "    #fp.write(response+'\\n-----------------------------------------------\\n')\n",
    "    #fp.close()"
   ]
  }
 ],
 "metadata": {
  "kernelspec": {
   "display_name": "lawchat",
   "language": "python",
   "name": "python3"
  },
  "language_info": {
   "codemirror_mode": {
    "name": "ipython",
    "version": 3
   },
   "file_extension": ".py",
   "mimetype": "text/x-python",
   "name": "python",
   "nbconvert_exporter": "python",
   "pygments_lexer": "ipython3",
   "version": "3.12.7"
  }
 },
 "nbformat": 4,
 "nbformat_minor": 2
}
