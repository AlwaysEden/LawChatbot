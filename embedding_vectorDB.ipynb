{
 "cells": [
  {
   "cell_type": "code",
   "execution_count": null,
   "metadata": {},
   "outputs": [
    {
     "name": "stderr",
     "output_type": "stream",
     "text": [
      "/Users/jeongwon/Desktop/Chatbot/Law/lawchat/lib/python3.12/site-packages/tqdm/auto.py:21: TqdmWarning: IProgress not found. Please update jupyter and ipywidgets. See https://ipywidgets.readthedocs.io/en/stable/user_install.html\n",
      "  from .autonotebook import tqdm as notebook_tqdm\n"
     ]
    }
   ],
   "source": [
    "from llama_index.embeddings.huggingface import HuggingFaceEmbedding\n",
    "import psycopg2\n",
    "from llama_index.core import Settings\n",
    "import re"
   ]
  },
  {
   "cell_type": "code",
   "execution_count": null,
   "metadata": {},
   "outputs": [],
   "source": [
    "Settings.embed_model = HuggingFaceEmbedding(\n",
    "    model_name=\"jhgan/ko-sroberta-multitask\"\n",
    ")"
   ]
  },
  {
   "cell_type": "code",
   "execution_count": null,
   "metadata": {},
   "outputs": [
    {
     "name": "stdout",
     "output_type": "stream",
     "text": [
      "PostgreSQL 연결이 종료되었습니다.\n"
     ]
    }
   ],
   "source": [
    "try:\n",
    "    from_table_name = 'each_paragraph'\n",
    "    to_table_name = 'data_each_paragraph'\n",
    "\n",
    "    conn = psycopg2.connect(host='host', dbname='dbname', user='user', password='password', port=5432) #you need to add your information\n",
    "    cursor = conn.cursor()\n",
    "    query = \"SELECT name, part_num, part_name, chap_num, char_name, sec_num, sec_name, para_num, para_name, art_num, art_name, content FROM {table} order by id\".format(table=from_table_name)\n",
    "    cursor.execute(query)\n",
    "    rows = cursor.fetchall()\n",
    "    i = 1\n",
    "\n",
    "    for row in rows:\n",
    "        filtered_tuple = tuple(element for element in row if element is not None) #None값을 필터링하는 코드\n",
    "        filtered_text = ' '.join(filtered_tuple)\n",
    "        filtered_text = re.sub('(name:|part_num:|part_name:|chap_num:|char_name:|sec_num:|sec_name:|para_num:|para_name:|art_num:|art_name:|content:|None,|\\n)','',filtered_text)\n",
    "        embedding = Settings.embed_model.get_text_embedding(filtered_text)\n",
    "        try:\n",
    "            sql = \"INSERT INTO {to_table_name} (text, embedding)VALUES ('{text}', '{embedding}'::VECTOR(768))\".format(to_table_name=to_table_name, text= filtered_text, embedding = embedding)\n",
    "            cursor.execute(sql)\n",
    "        except Exception as e:\n",
    "            print(\"Update Error: \", e)\n",
    "        i+=1    \n",
    "        conn.commit()\n",
    "\n",
    "except Exception as e:\n",
    "    print(f\"데이터베이스 연결에 실패했습니다: {e}\")\n",
    "finally:\n",
    "    # 데이터베이스 연결 종료\n",
    "    if conn:\n",
    "        cursor.close()\n",
    "        conn.close()\n",
    "        print(\"PostgreSQL 연결이 종료되었습니다.\")\n"
   ]
  }
 ],
 "metadata": {
  "kernelspec": {
   "display_name": "lawchat",
   "language": "python",
   "name": "python3"
  },
  "language_info": {
   "codemirror_mode": {
    "name": "ipython",
    "version": 3
   },
   "file_extension": ".py",
   "mimetype": "text/x-python",
   "name": "python",
   "nbconvert_exporter": "python",
   "pygments_lexer": "ipython3",
   "version": "3.12.7"
  }
 },
 "nbformat": 4,
 "nbformat_minor": 2
}
